{
 "cells": [
  {
   "cell_type": "code",
   "execution_count": 1,
   "metadata": {},
   "outputs": [
    {
     "name": "stdout",
     "output_type": "stream",
     "text": [
      "Intel MKL WARNING: Support of Intel(R) Streaming SIMD Extensions 4.2 (Intel(R) SSE4.2) enabled only processors has been deprecated. Intel oneAPI Math Kernel Library 2025.0 will require Intel(R) Advanced Vector Extensions (Intel(R) AVX) instructions.\n",
      "Intel MKL WARNING: Support of Intel(R) Streaming SIMD Extensions 4.2 (Intel(R) SSE4.2) enabled only processors has been deprecated. Intel oneAPI Math Kernel Library 2025.0 will require Intel(R) Advanced Vector Extensions (Intel(R) AVX) instructions.\n"
     ]
    }
   ],
   "source": [
    "import matplotlib.pyplot as plt\n",
    "import numpy as np"
   ]
  },
  {
   "cell_type": "code",
   "execution_count": 2,
   "metadata": {},
   "outputs": [],
   "source": [
    "x = [23, 25, 40, 35, 36, 47, 33, 28, 48, 34, 20,\n",
    "    20, 37, 36, 23, 33, 36, 20, 27, 50, 34, 12,\n",
    "    47, 18, 28, 52, 21, 44, 34, 13, 40, 49, 54]"
   ]
  },
  {
   "cell_type": "code",
   "execution_count": 3,
   "metadata": {},
   "outputs": [
    {
     "name": "stdout",
     "output_type": "stream",
     "text": [
      "n: 33\n",
      "square root of n: 5.744562646538029\n"
     ]
    }
   ],
   "source": [
    "sqrt_n = np.sqrt(len(x))\n",
    "len_n = len(x)\n",
    "print(f\"n: {len_n}\")\n",
    "print(f\"square root of n: {sqrt_n}\")"
   ]
  },
  {
   "cell_type": "code",
   "execution_count": 4,
   "metadata": {},
   "outputs": [
    {
     "name": "stdout",
     "output_type": "stream",
     "text": [
      "min = 12\n",
      "min = 54\n",
      "range = 42\n"
     ]
    }
   ],
   "source": [
    "r = np.max(x) - np.min(x)\n",
    "print(f\"min = {np.min(x)}\")\n",
    "print(f\"min = {np.max(x)}\")\n",
    "print(f\"range = {r}\")"
   ]
  },
  {
   "cell_type": "code",
   "execution_count": 5,
   "metadata": {},
   "outputs": [
    {
     "name": "stdout",
     "output_type": "stream",
     "text": [
      "Bin Width = 7.0\n"
     ]
    }
   ],
   "source": [
    "bin_width = r/6\n",
    "print(f\"Bin Width = {bin_width}\")"
   ]
  }
 ],
 "metadata": {
  "kernelspec": {
   "display_name": "engr101-book",
   "language": "python",
   "name": "python3"
  },
  "language_info": {
   "codemirror_mode": {
    "name": "ipython",
    "version": 3
   },
   "file_extension": ".py",
   "mimetype": "text/x-python",
   "name": "python",
   "nbconvert_exporter": "python",
   "pygments_lexer": "ipython3",
   "version": "3.12.2"
  }
 },
 "nbformat": 4,
 "nbformat_minor": 2
}
